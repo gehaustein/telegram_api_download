{
 "cells": [
  {
   "cell_type": "code",
   "execution_count": null,
   "metadata": {},
   "outputs": [],
   "source": [
    "from telethon import TelegramClient\n",
    "from datetime import timedelta, datetime\n",
    "import pytz\n",
    "import pandas as pd\n",
    "from telethon import functions, types\n",
    "from tqdm import tqdm"
   ]
  },
  {
   "cell_type": "code",
   "execution_count": null,
   "metadata": {},
   "outputs": [],
   "source": [
    "# Insert your information from https://my.telegram.org/\n",
    "api_id = YOUR-API-ID #Integer\n",
    "api_hash = 'YOUR-API-HASH' #String\n",
    "\n",
    "client = TelegramClient(\"anon\", api_id=api_id, api_hash=api_hash)\n",
    "\n",
    "await client.start()"
   ]
  },
  {
   "cell_type": "code",
   "execution_count": null,
   "metadata": {},
   "outputs": [],
   "source": [
    "# Insert the required start date and the channel url, you'd like to retrieve\n",
    "utc=pytz.UTC\n",
    "\n",
    "start_date = \"YYYY-MM-DD, HH:MM:SS\"\n",
    "start_date = datetime.strptime(start_date, \"%Y-%m-%d, %H:%M:%S\").replace(tzinfo=utc)\n",
    "\n",
    "end_date = \"YYYY-MM-DD, HH:MM:SS\"\n",
    "end_date = datetime.strptime(end_date, \"%Y-%m-%d, %H:%M:%S\").replace(tzinfo=utc)\n",
    "\n",
    "channel_list = [\"URL1\",\n",
    "                \"URL2\"] # Add the desired links to the Telegram channels as string to the list"
   ]
  },
  {
   "cell_type": "code",
   "execution_count": null,
   "metadata": {},
   "outputs": [],
   "source": [
    "message_list = []\n",
    "\n",
    "for url in channel_list:\n",
    "    channel = await client.get_entity(url)\n",
    "\n",
    "    current_date = start_date\n",
    "\n",
    "    async for message in client.iter_messages(channel, limit=1, offset_date=end_date):\n",
    "        latest_date = message.date\n",
    "\n",
    "    while current_date < latest_date:\n",
    "        async for message in client.iter_messages(channel, limit=None, offset_date=current_date, reverse=True):\n",
    "            if message.date <= end_date:\n",
    "                message_id = message.id\n",
    "                date = message.date\n",
    "                channel_id = message.peer_id.channel_id\n",
    "                author = message.sender.title\n",
    "                user_name = message.sender.username\n",
    "                text = message.message\n",
    "                views = message.views\n",
    "                forwards = message.forwards\n",
    "                try:\n",
    "                    replies = message.replies.replies\n",
    "                except AttributeError:\n",
    "                    replies = None\n",
    "                print(date, author)\n",
    "                message_list.append([message_id, date, channel_id, author, user_name, text, views, forwards, replies])\n",
    "        current_date = message.date\n",
    "\n",
    "message_df = pd.DataFrame(message_list, columns=[\"message_id\", \"date\", \"channel_id\", \"author\", \"user_name\", \"text\", \"views\", \"forwards\", \"replies\"])\n"
   ]
  },
  {
   "cell_type": "code",
   "execution_count": null,
   "metadata": {},
   "outputs": [],
   "source": [
    "message_df.csv(f\"{datetime.today().date()}_messages.csv\")"
   ]
  }
 ],
 "metadata": {
  "kernelspec": {
   "display_name": "Python 3.9.12 ('telethon_condaenv')",
   "language": "python",
   "name": "python3"
  },
  "language_info": {
   "codemirror_mode": {
    "name": "ipython",
    "version": 3
   },
   "file_extension": ".py",
   "mimetype": "text/x-python",
   "name": "python",
   "nbconvert_exporter": "python",
   "pygments_lexer": "ipython3",
   "version": "3.9.12"
  },
  "orig_nbformat": 4,
  "vscode": {
   "interpreter": {
    "hash": "b5bf12b6b511ee0b95e6ec03c2cf2568466b36a65d2b06b83e79b8331d80cc89"
   }
  }
 },
 "nbformat": 4,
 "nbformat_minor": 2
}
